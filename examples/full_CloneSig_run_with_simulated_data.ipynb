{
 "cells": [
  {
   "cell_type": "markdown",
   "metadata": {},
   "source": [
    "# CloneSig package\n",
    "In this notebook, we show a few of CloneSig's main functions, and the associated parameters that can be tuned in order to adjust the results if needed. Runtime should be in the range of minutes on a personal computer (see runtimes for each cell); of course runtime increases when the number of mutations increases.\n",
    "\n",
    "## Data simulation"
   ]
  },
  {
   "cell_type": "code",
   "execution_count": 1,
   "metadata": {
    "ExecuteTime": {
     "end_time": "2019-09-16T19:10:31.705633Z",
     "start_time": "2019-09-16T19:10:29.990547Z"
    }
   },
   "outputs": [
    {
     "name": "stdout",
     "output_type": "stream",
     "text": [
      "running on server, otherwise please investigate\n",
      "running on server, otherwise please investigate\n",
      "running on server, otherwise please investigate\n"
     ]
    }
   ],
   "source": [
    "%matplotlib inline\n",
    "\n",
    "import matplotlib.pyplot as plt\n",
    "import seaborn as sns\n",
    "import numpy as np\n",
    "import pandas as pd\n",
    "import os\n",
    "from seaborn.distributions import _freedman_diaconis_bins\n",
    "\n",
    "from clonesig.data_loader import SimLoader\n",
    "from clonesig.run_clonesig import get_MU, run_clonesig\n",
    "\n",
    "sns.set_context('poster')"
   ]
  },
  {
   "cell_type": "markdown",
   "metadata": {},
   "source": [
    "The class ```SimLoader``` is the one to use to simulate data. Several inputs are necessary\n",
    "- `N`, the number of wanted mutations\n",
    "- `J`, the number of clones\n",
    "Other parameters are **optional** and provide further control over the simulated tumor sample.\n",
    "- `inputMU` is the input signature matrix, containing $L$ signatures, and of size $L\\times K$, with $K$ the number of possible mutation type (typically 96)\n",
    "- `xi_param`, `pi_param`, `phi_param`, `rho_param`, `purity_param` allow the user to set values for parameters of the model $\\xi, \\pi, \\phi, \\rho$ and the purity. Some of them allow some indications for the simulation (see [class docstring](https://github.com/judithabk6/clonesig/blob/master/clonesig/data_loader.py#L108) for more details)\n",
    "- `change_sig_activity` is a boolean indicating whether the signature activity should be constant between the clones\n",
    "- `dip_prop` indicates the proportion of the simulated genome (mutations) that should be diploid\n",
    "\n",
    "Then two methods must be called to assign the parameters and simulate the mutations, and finally, several methods to get a table describing the mutations (that can be used as input to fit CloneSig's model)."
   ]
  },
  {
   "cell_type": "code",
   "execution_count": 2,
   "metadata": {
    "ExecuteTime": {
     "end_time": "2019-09-16T19:10:32.215499Z",
     "start_time": "2019-09-16T19:10:31.708675Z"
    }
   },
   "outputs": [
    {
     "data": {
      "text/html": [
       "<div>\n",
       "<style scoped>\n",
       "    .dataframe tbody tr th:only-of-type {\n",
       "        vertical-align: middle;\n",
       "    }\n",
       "\n",
       "    .dataframe tbody tr th {\n",
       "        vertical-align: top;\n",
       "    }\n",
       "\n",
       "    .dataframe thead th {\n",
       "        text-align: right;\n",
       "    }\n",
       "</style>\n",
       "<table border=\"1\" class=\"dataframe\">\n",
       "  <thead>\n",
       "    <tr style=\"text-align: right;\">\n",
       "      <th></th>\n",
       "      <th>mutation_id</th>\n",
       "      <th>chromosome</th>\n",
       "      <th>position</th>\n",
       "      <th>ref_counts</th>\n",
       "      <th>var_counts</th>\n",
       "      <th>normal_cn</th>\n",
       "      <th>minor_cn</th>\n",
       "      <th>mut_cn</th>\n",
       "      <th>major_cn</th>\n",
       "      <th>total_cn</th>\n",
       "      <th>trinucleotide</th>\n",
       "      <th>signature</th>\n",
       "      <th>clone</th>\n",
       "    </tr>\n",
       "  </thead>\n",
       "  <tbody>\n",
       "    <tr>\n",
       "      <th>0</th>\n",
       "      <td>mut_1</td>\n",
       "      <td>1</td>\n",
       "      <td>5</td>\n",
       "      <td>396.0</td>\n",
       "      <td>119.0</td>\n",
       "      <td>2.0</td>\n",
       "      <td>1.0</td>\n",
       "      <td>1.0</td>\n",
       "      <td>1.0</td>\n",
       "      <td>2.0</td>\n",
       "      <td>31</td>\n",
       "      <td>16</td>\n",
       "      <td>1</td>\n",
       "    </tr>\n",
       "    <tr>\n",
       "      <th>1</th>\n",
       "      <td>mut_2</td>\n",
       "      <td>1</td>\n",
       "      <td>15</td>\n",
       "      <td>44.0</td>\n",
       "      <td>24.0</td>\n",
       "      <td>2.0</td>\n",
       "      <td>1.0</td>\n",
       "      <td>1.0</td>\n",
       "      <td>1.0</td>\n",
       "      <td>2.0</td>\n",
       "      <td>66</td>\n",
       "      <td>56</td>\n",
       "      <td>0</td>\n",
       "    </tr>\n",
       "    <tr>\n",
       "      <th>2</th>\n",
       "      <td>mut_3</td>\n",
       "      <td>1</td>\n",
       "      <td>25</td>\n",
       "      <td>127.0</td>\n",
       "      <td>35.0</td>\n",
       "      <td>2.0</td>\n",
       "      <td>1.0</td>\n",
       "      <td>1.0</td>\n",
       "      <td>1.0</td>\n",
       "      <td>2.0</td>\n",
       "      <td>90</td>\n",
       "      <td>64</td>\n",
       "      <td>1</td>\n",
       "    </tr>\n",
       "    <tr>\n",
       "      <th>3</th>\n",
       "      <td>mut_4</td>\n",
       "      <td>1</td>\n",
       "      <td>35</td>\n",
       "      <td>50.0</td>\n",
       "      <td>24.0</td>\n",
       "      <td>2.0</td>\n",
       "      <td>1.0</td>\n",
       "      <td>1.0</td>\n",
       "      <td>1.0</td>\n",
       "      <td>2.0</td>\n",
       "      <td>6</td>\n",
       "      <td>56</td>\n",
       "      <td>0</td>\n",
       "    </tr>\n",
       "    <tr>\n",
       "      <th>4</th>\n",
       "      <td>mut_5</td>\n",
       "      <td>1</td>\n",
       "      <td>45</td>\n",
       "      <td>245.0</td>\n",
       "      <td>125.0</td>\n",
       "      <td>2.0</td>\n",
       "      <td>1.0</td>\n",
       "      <td>1.0</td>\n",
       "      <td>1.0</td>\n",
       "      <td>2.0</td>\n",
       "      <td>95</td>\n",
       "      <td>64</td>\n",
       "      <td>1</td>\n",
       "    </tr>\n",
       "  </tbody>\n",
       "</table>\n",
       "</div>"
      ],
      "text/plain": [
       "  mutation_id  chromosome  position  ref_counts  var_counts  normal_cn  \\\n",
       "0       mut_1           1         5       396.0       119.0        2.0   \n",
       "1       mut_2           1        15        44.0        24.0        2.0   \n",
       "2       mut_3           1        25       127.0        35.0        2.0   \n",
       "3       mut_4           1        35        50.0        24.0        2.0   \n",
       "4       mut_5           1        45       245.0       125.0        2.0   \n",
       "\n",
       "   minor_cn  mut_cn  major_cn  total_cn trinucleotide  signature  clone  \n",
       "0       1.0     1.0       1.0       2.0            31         16      1  \n",
       "1       1.0     1.0       1.0       2.0            66         56      0  \n",
       "2       1.0     1.0       1.0       2.0            90         64      1  \n",
       "3       1.0     1.0       1.0       2.0             6         56      0  \n",
       "4       1.0     1.0       1.0       2.0            95         64      1  "
      ]
     },
     "execution_count": 2,
     "metadata": {},
     "output_type": "execute_result"
    }
   ],
   "source": [
    "N = 2000\n",
    "J = 3\n",
    "\n",
    "\n",
    "sim_object = SimLoader(N, J, rho_param=100, cn=False)\n",
    "sim_object._get_unobserved_nodes()\n",
    "sim_object._get_observed_nodes()\n",
    "# to get the mutation table\n",
    "sim_mutation_table = sim_object._get_data_df()\n",
    "sim_mutation_table.head()"
   ]
  },
  {
   "cell_type": "markdown",
   "metadata": {
    "ExecuteTime": {
     "end_time": "2019-09-13T13:15:03.321045Z",
     "start_time": "2019-09-13T13:15:03.314359Z"
    }
   },
   "source": [
    "We can represent the simulated data (here the true CCF for each mutation - unknown in the case of real data)"
   ]
  },
  {
   "cell_type": "code",
   "execution_count": 26,
   "metadata": {
    "ExecuteTime": {
     "end_time": "2019-09-17T16:43:18.750293Z",
     "start_time": "2019-09-17T16:43:17.131790Z"
    }
   },
   "outputs": [
    {
     "data": {
      "text/plain": [
       "<matplotlib.legend.Legend at 0x121df4cc0>"
      ]
     },
     "execution_count": 26,
     "metadata": {},
     "output_type": "execute_result"
    },
    {
     "data": {
      "image/png": "[encoded data removed]",
      "text/plain": [
       "<Figure size 432x288 with 1 Axes>"
      ]
     },
     "metadata": {
      "needs_background": "light"
     },
     "output_type": "display_data"
    }
   ],
   "source": [
    "purity = sim_object.purity\n",
    "sim_mutation_table = sim_mutation_table.assign(vaf=sim_mutation_table.var_counts /\n",
    "                         (sim_mutation_table.ref_counts + sim_mutation_table.var_counts))\n",
    "sim_mutation_table = sim_mutation_table.assign(\n",
    "    total_cn=lambda x: x['minor_cn'] + x['major_cn'])\n",
    "sim_mutation_table = sim_mutation_table.assign(\n",
    "    vaf_cn=sim_mutation_table.vaf * sim_mutation_table['total_cn'] / sim_mutation_table['mut_cn'])\n",
    "sim_mutation_table = sim_mutation_table.assign(\n",
    "    vaf_purity=sim_mutation_table.apply(\n",
    "        lambda x: x['vaf']/purity *\n",
    "        ((1 - purity) * 2 + purity * x['total_cn']) /\n",
    "        x['mut_cn'], axis=1))\n",
    "\n",
    "# save data to provide an example csv\n",
    "sim_mutation_table.to_csv('example_data.csv', index=False)\n",
    "with open('purity.txt', 'w') as f:\n",
    "    f.write('{}'.format(purity))\n",
    "\n",
    "sns.distplot(sim_mutation_table.vaf_purity, kde=False, label='all')\n",
    "for i in range(J):\n",
    "    sns.distplot(sim_mutation_table[sim_mutation_table.clone==i].vaf_purity, kde=False, label='clone {}'.format(i))\n",
    "plt.legend(bbox_to_anchor=(1.05, 0.5), loc=2, borderaxespad=0.)\n"
   ]
  },
  {
   "cell_type": "code",
   "execution_count": 4,
   "metadata": {
    "ExecuteTime": {
     "end_time": "2019-09-16T19:10:33.613317Z",
     "start_time": "2019-09-16T19:10:33.086264Z"
    }
   },
   "outputs": [
    {
     "data": {
      "text/plain": [
       "Text(0.5, -21.5, 'signature index')"
      ]
     },
     "execution_count": 4,
     "metadata": {},
     "output_type": "execute_result"
    },
    {
     "data": {
      "image/png": "[encoded data removed]",
      "text/plain": [
       "<Figure size 2160x144 with 2 Axes>"
      ]
     },
     "metadata": {
      "needs_background": "light"
     },
     "output_type": "display_data"
    }
   ],
   "source": [
    "fig, ax = plt.subplots(nrows=1, ncols=1, figsize=(30, 2))\n",
    "sns.heatmap(sim_object.pi, vmin=0, vmax=np.max(sim_object.pi), ax=ax, cmap='GnBu', annot=False, fmt='.2f', annot_kws={\"size\": 12})\n",
    "ax.set_ylim((-0.5, 3.5))\n",
    "ax.set_ylabel('clone index')\n",
    "ax.set_xlabel('signature index')"
   ]
  },
  {
   "cell_type": "markdown",
   "metadata": {
    "ExecuteTime": {
     "end_time": "2019-09-13T13:54:17.654792Z",
     "start_time": "2019-09-13T13:54:17.649006Z"
    }
   },
   "source": [
    "## Running CloneSig on that simulated sample\n",
    "\n",
    "### run CloneSig\n",
    "\n",
    "The model fitting step of CloneSig is handled by the class [Estimator](https://github.com/judithabk6/clonesig/blob/master/clonesig/estimator.py#L50). However the complete pipeline includes other important step such as selecting the number of clones, apply the statistical test to determine the significance of a signature change between the different clones. All those steps are wrapped in a single function, [run_clonesig](https://github.com/judithabk6/clonesig/blob/master/clonesig/run_clonesig.py#L322). The principal inputs taken by the function are\n",
    "- `T` : iterable of length N with the trinucleotide context of each mutation, numbered from 0 to 95\n",
    "- `B` : iterable of length N with the variant allele read count for each mutation\n",
    "- `D` : iterable of length N with the total read count for each mutation\n",
    "- `C_normal` : iterable of length N copy number of non-tumor cells in the sample at each mutation locus\n",
    "- `C_tumor_tot`  : iterable of length N the total copy number of tumor cells in the sample at each mutation locus\n",
    "- `C_tumor_minor` : iterable of length N the minor copy number of tumor cells in the sample at each mutation locus. If this info is not available, set it to zero so that clonesig considers all possible genotypes\n",
    "- `purity` : float in [0, 1] an estimate of the tumor purity of the sample\n",
    "- `inputMU` : array-like (L, 96) known L signatures to be fit by clonesig.\n",
    "\n",
    "Ohter options are available and are detailed in the doctstring of the function. `run_clonesig` returns several \n",
    "new_est, lr, p, new_inputMU, cst_est, future_sigs\n",
    "- the Estimator object\n",
    "- the log ratio of the statistical test (statistrics)\n",
    "- the associated pvalue\n",
    "- the MU matrix used for the fit (useful in the case where `run_clonesig` is used in the prefit mode where a first run preselects a subset of signatures that will subsequently be fit to the data\n",
    "- the alternative Estimator object with a constant signature mixture constant across all clones\n",
    "- a boolean vector describing the signatures retained or not for fit in the case where the \"prefit\" option is used.\n"
   ]
  },
  {
   "cell_type": "code",
   "execution_count": null,
   "metadata": {
    "ExecuteTime": {
     "end_time": "2019-09-16T14:31:48.525198Z",
     "start_time": "2019-09-16T14:31:48.493658Z"
    }
   },
   "outputs": [],
   "source": []
  },
  {
   "cell_type": "code",
   "execution_count": 5,
   "metadata": {
    "ExecuteTime": {
     "end_time": "2019-09-16T19:11:38.322981Z",
     "start_time": "2019-09-16T19:10:33.616198Z"
    }
   },
   "outputs": [
    {
     "name": "stdout",
     "output_type": "stream",
     "text": [
      "size of the default MU matrix: (65, 96)\n",
      "0 0\n",
      "1 0\n",
      "2 0\n",
      "3 0\n",
      "4 0\n",
      "stopped and chosen number of clones is  3\n",
      "[-14213.70515971 -14138.04500238 -14061.97400585 -14061.32232777\n",
      " -14061.46099665      0.              0.              0.        ]\n",
      "[-14230.25992527 -14171.1545335  -14111.63830252 -14127.54139\n",
      " -14144.23482444      0.              0.              0.        ]\n",
      "stopped and chosen number of clones is  3\n",
      "[-14213.70515971 -14138.04500238 -14061.97400585 -14061.32232777\n",
      " -14061.46099665      0.              0.              0.        ]\n",
      "[-14230.25992527 -14171.1545335  -14111.63830252 -14127.54139\n",
      " -14144.23482444      0.              0.              0.        ]\n",
      "(3, 65) (65, 96) 3\n"
     ]
    }
   ],
   "source": [
    "default_MU = get_MU()\n",
    "print('size of the default MU matrix:', default_MU.shape)\n",
    "\n",
    "est, lr, pval, new_inputMU, cst_est, future_sigs = run_clonesig(\n",
    "    np.array(sim_mutation_table.trinucleotide),\n",
    "    np.array(sim_mutation_table.var_counts),\n",
    "    np.array(sim_mutation_table.var_counts + sim_mutation_table.ref_counts),\n",
    "    np.array(sim_mutation_table.normal_cn),\n",
    "    np.array(sim_mutation_table.total_cn),\n",
    "    np.array(sim_mutation_table.total_cn - sim_mutation_table.major_cn),\n",
    "    sim_object.purity, default_MU)\n",
    "\n",
    "\n",
    "\n"
   ]
  },
  {
   "cell_type": "markdown",
   "metadata": {},
   "source": [
    "### Compare CloneSig results with simulations"
   ]
  },
  {
   "cell_type": "code",
   "execution_count": 6,
   "metadata": {
    "ExecuteTime": {
     "end_time": "2019-09-16T19:11:38.465721Z",
     "start_time": "2019-09-16T19:11:38.325275Z"
    }
   },
   "outputs": [],
   "source": [
    "est_table = pd.DataFrame({'trinucleotide': est.T, 'var_counts': est.B,\n",
    "                          'minor_cn': est.C_tumor_minor,\n",
    "                          'major_cn': est.C_tumor_major,\n",
    "                          'total_cn': est.C_tumor_tot, 'depth': est.D,\n",
    "                          'clone': est.qun.argmax(axis=1),\n",
    "                          'signature': np.arange(default_MU.shape[0])[est.rnus[np.arange(est.N), est.qun.argmax(axis=1), :].argmax(axis=1)],\n",
    "                          'mult': est.vmnu[np.arange(est.N), est.qun.argmax(axis=1), :].argmax(axis=1) +1})\n",
    "est_table = est_table.assign(vaf=est_table.var_counts / est_table.depth)\n",
    "est_table = est_table.assign(vaf_cn=est_table.vaf * est_table['total_cn'] / est_table['mult'])\n",
    "est_table = est_table.assign(vaf_purity=est_table.apply(lambda x: x['vaf']/est.p * ((1 - est.p) * 2 + est.p * x['total_cn']) / x['mult'], axis=1))\n",
    "nb_bins = min(_freedman_diaconis_bins(est_table.vaf_purity) * 2, 50)\n",
    "final_bins = np.linspace(min(est_table.vaf_purity), max(est_table.vaf_purity), nb_bins)\n",
    "\n",
    "est_table = est_table.assign(trinucleotide=pd.Categorical(est_table.trinucleotide, ordered=True, categories=range(96)))\n"
   ]
  },
  {
   "cell_type": "code",
   "execution_count": 7,
   "metadata": {
    "ExecuteTime": {
     "end_time": "2019-09-16T19:11:39.421597Z",
     "start_time": "2019-09-16T19:11:38.469177Z"
    }
   },
   "outputs": [
    {
     "data": {
      "image/png": "[encoded data removed]",
      "text/plain": [
       "<Figure size 1080x216 with 2 Axes>"
      ]
     },
     "metadata": {
      "needs_background": "light"
     },
     "output_type": "display_data"
    }
   ],
   "source": [
    "fig, ax = plt.subplots(ncols=2, figsize=(15,3))\n",
    "\n",
    "sns.distplot(sim_mutation_table.vaf_purity, kde=False, label='all', ax=ax[0])\n",
    "for i in range(J):\n",
    "    sns.distplot(sim_mutation_table[sim_mutation_table.clone==i].vaf_purity, kde=False, label='clone {}'.format(i), ax=ax[0])\n",
    "ax[0].legend(bbox_to_anchor=(1.05, 0.8), loc=2, borderaxespad=0.)\n",
    "ax[0].set_title('simulation')\n",
    "\n",
    "sns.distplot(est_table.vaf_purity, kde=False, label='all', ax=ax[1])\n",
    "for i in range(est.J):\n",
    "    sns.distplot(est_table[est_table.clone==i].vaf_purity, kde=False, label='clone {}'.format(i), ax=ax[1])\n",
    "plt.legend(bbox_to_anchor=(1.05, 0.8), loc=2, borderaxespad=0.)\n",
    "ax[1].set_title('reconstruction')\n",
    "plt.subplots_adjust(wspace = 0.8)\n",
    "\n"
   ]
  },
  {
   "cell_type": "code",
   "execution_count": 8,
   "metadata": {
    "ExecuteTime": {
     "end_time": "2019-09-16T19:11:40.619479Z",
     "start_time": "2019-09-16T19:11:39.425183Z"
    }
   },
   "outputs": [
    {
     "data": {
      "image/png": "[encoded data removed]",
      "text/plain": [
       "<Figure size 2160x432 with 4 Axes>"
      ]
     },
     "metadata": {
      "needs_background": "light"
     },
     "output_type": "display_data"
    }
   ],
   "source": [
    "fig, ax = plt.subplots(nrows=2, ncols=1, figsize=(30, 6))\n",
    "sns.heatmap(sim_object.pi, vmin=0, vmax=1, ax=ax[0], cmap='GnBu')\n",
    "sns.heatmap(est.pi, vmin=0, vmax=1, ax=ax[1], cmap='GnBu')\n",
    "\n",
    "ax[0].set_ylim((-0.5, 3.5))\n",
    "ax[0].set_ylabel('clone index')\n",
    "ax[0].set_xlabel('signature index')\n",
    "ax[0].set_title('simulation')\n",
    "\n",
    "ax[1].set_ylim((-0.5, 3.5))\n",
    "ax[1].set_ylabel('clone index')\n",
    "ax[1].set_xlabel('signature index')\n",
    "ax[1].set_title('reconstruction')\n",
    "\n",
    "plt.subplots_adjust(hspace = 1.5)"
   ]
  },
  {
   "cell_type": "markdown",
   "metadata": {},
   "source": [
    "### Alternative parameters to adjust\n",
    "#### the input signatures\n",
    "You can use a subset of signatures as input, either by manually select the ones you want from from the default matrix provided by the function `get_MU`, or by use the match of cancer-type-signature provided in Alexandrov's package SigProfiler (see [this script](https://github.com/judithabk6/Clonesig_analysis/blob/master/signature_code/sigprofiler_alexandrov18_data.py) for the precise procedure). In that case you can provide to `get_MU` the parameter `cancer_type` with an integer, indexing the wanted cancer types. Here is the list of the 65 signatures considered in the COSMIC v3 version\n",
    "\n",
    "\n",
    ">Signature Subs-01, Signature Subs-02, Signature Subs-03, Signature Subs-04, Signature Subs-05, Signature Subs-06, Signature Subs-07a, Signature Subs-07b, Signature Subs-07c, Signature Subs-07d, Signature Subs-08, Signature Subs-09, Signature Subs-10a, Signature Subs-10b, Signature Subs-11, Signature Subs-12, Signature Subs-13, Signature Subs-14, Signature Subs-15, Signature Subs-16, Signature Subs-17a, Signature Subs-17b, Signature Subs-18, Signature Subs-19, Signature Subs-20, Signature Subs-21, Signature Subs-22, Signature Subs-23, Signature Subs-24, Signature Subs-25, Signature Subs-26, Signature Subs-27, Signature Subs-28, Signature Subs-29, Signature Subs-30, Signature Subs-31, Signature Subs-32, Signature Subs-33, Signature Subs-34, Signature Subs-35, Signature Subs-36, Signature Subs-37, Signature Subs-38, Signature Subs-39, Signature Subs-40, Signature Subs-41, Signature Subs-42, Signature Subs-43, Signature Subs-44, Signature Subs-45, Signature Subs-46, Signature Subs-47, Signature Subs-48, Signature Subs-49, Signature Subs-50, Signature Subs-51, Signature Subs-52, Signature Subs-53, Signature Subs-54, Signature Subs-55, Signature Subs-56, Signature Subs-57, Signature Subs-58, Signature Subs-59, Signature Subs-60\n",
    "\n",
    "\n",
    "\n",
    "Available types are\n",
    "\n",
    "|Cancer type | index | \n",
    "|--- | --- |\n",
    "| BILIARY-ADENOCA    |     0|\n",
    "| BLADDER-TCC        |     1|\n",
    "| BONE-BENIGN        |     2|\n",
    "| BONE-EPITH         |     3|\n",
    "| BONE-OSTEOSARC     |     4|\n",
    "| BREAST-ADENOCA     |     5|\n",
    "| BREAST-LOBULARCA   |     6|\n",
    "| CERVIX-ADENOCA     |     7|\n",
    "| CERVIX-SCC         |     8|\n",
    "| CNS-GBM            |     9|\n",
    "| CNS-MEDULLO        |    10|\n",
    "| CNS-OLIGO          |    11|\n",
    "| CNS-PILOASTRO      |    12|\n",
    "| COLORECT-ADENOCA   |    13|\n",
    "| ESO-ADENOCA        |    14|\n",
    "| HEAD-SCC           |    15|\n",
    "| KIDNEY-CHRCC       |    16|\n",
    "| KIDNEY-RCC         |    17|\n",
    "| LIVER-HCC          |    18|\n",
    "| LUNG-ADENOCA       |    19|\n",
    "| LUNG-SCC           |    20|\n",
    "| LYMPH-BNHL         |    21|\n",
    "| LYMPH-CLL          |    22|\n",
    "| MYELOID-AML        |    23|\n",
    "| MYELOID-MPN        |    24|\n",
    "| OVARY-ADENOCA      |    25|\n",
    "| PANC-ADENOCA       |    26|\n",
    "| PANC-ENDOCRINE     |    27|\n",
    "| PROST-ADENOCA      |    28|\n",
    "| SKIN-MELANOMA      |    29|\n",
    "| SOFTTISSUE-LEIOMYO |    30|\n",
    "| SOFTTISSUE-LIPOSARC|    31|\n",
    "| STOMACH-ADENOCA    |    32|\n",
    "| THY-ADENOCA        |    33|\n",
    "| UTERUS-ADENOCA     |    34| \n",
    "\n",
    "\n",
    "You can also use the v2 signatures, by specifying the parameter `cosmic_version=2`, and in that case, the matching of cancer types and signatures is given by\n",
    "\n",
    "|Cancer type | index | \n",
    "|--- | --- |\n",
    "| Adrenocortical carcinoma    |     0 |\n",
    "| ALL                         |     1 |\n",
    "| AML                         |     2 |\n",
    "| Bladder                     |     3 |\n",
    "| Breast                      |     4 |\n",
    "| Cervix                      |     5 |\n",
    "| Chondrosarcoma              |     6 |\n",
    "| CLL                         |     7 |\n",
    "| Colorectum                  |     8 |\n",
    "| Glioblastoma                |     9 |\n",
    "| Glioma Low Grade            |    10 |\n",
    "| Head and Neck               |    11 |\n",
    "| Kidney Chromophobe          |    12 |\n",
    "| Kidney Clear Cell           |    13 |\n",
    "| Kidney Papillary            |    14 |\n",
    "| Liver                       |    15 |\n",
    "| Lung Adeno                  |    16 |\n",
    "| Lung Small Cell             |    17 |\n",
    "| Lung Squamous               |    18 |\n",
    "| Lymphoma B-cell             |    19 |\n",
    "| Lymphoma Hodgkin            |    20 |\n",
    "| Medulloblastoma             |    21 |\n",
    "| Melanoma                    |    22 |\n",
    "| Myeloma                     |    23 |\n",
    "| Nasopharyngeal Carcinoma    |    24 |\n",
    "| Neuroblastoma               |    25 |\n",
    "| Oesophagus                  |    26 |\n",
    "| Oral gingivo-buccal squamous|    27 |\n",
    "| Osteosarcoma                |    28 |\n",
    "| Ovary                       |    29 |\n",
    "| Pancreas                    |    30 |\n",
    "| Paraganglioma               |    31 |\n",
    "| Pilocytic Astrocytoma       |    32 |\n",
    "| Prostate                    |    33 |\n",
    "| Stomach                     |    34 |\n",
    "| Thyroid                     |    35 |\n",
    "| Urothelial Carcinoma        |    36 |\n",
    "| Uterine Carcinoma           |    37 |\n",
    "| Uterine Carcinosarcoma      |    38 |\n",
    "| Uveal Melanoma              |    39 |\n",
    "\n",
    "\n",
    "#### selection of the number of clones\n",
    "the default behavior corresponds to the heuristics fitted with simulations. However, one can change the parameter for the adapted BIC using the parameter `model_selection_kws`."
   ]
  },
  {
   "cell_type": "code",
   "execution_count": null,
   "metadata": {
    "ExecuteTime": {
     "end_time": "2019-09-17T16:25:33.043725Z",
     "start_time": "2019-09-17T16:25:32.995995Z"
    }
   },
   "outputs": [],
   "source": []
  },
  {
   "cell_type": "code",
   "execution_count": 28,
   "metadata": {
    "ExecuteTime": {
     "end_time": "2019-09-17T16:47:11.024692Z",
     "start_time": "2019-09-17T16:47:11.017980Z"
    }
   },
   "outputs": [
    {
     "data": {
      "text/plain": [
       "108.25658168252099"
      ]
     },
     "execution_count": 28,
     "metadata": {},
     "output_type": "execute_result"
    }
   ],
   "source": []
  },
  {
   "cell_type": "code",
   "execution_count": null,
   "metadata": {},
   "outputs": [],
   "source": []
  }
 ],
 "metadata": {
  "hide_input": false,
  "kernelspec": {
   "display_name": "Python 3",
   "language": "python",
   "name": "python3"
  },
  "language_info": {
   "codemirror_mode": {
    "name": "ipython",
    "version": 3
   },
   "file_extension": ".py",
   "mimetype": "text/x-python",
   "name": "python",
   "nbconvert_exporter": "python",
   "pygments_lexer": "ipython3",
   "version": "3.6.5"
  },
  "latex_envs": {
   "LaTeX_envs_menu_present": true,
   "autoclose": false,
   "autocomplete": true,
   "bibliofile": "biblio.bib",
   "cite_by": "apalike",
   "current_citInitial": 1,
   "eqLabelWithNumbers": true,
   "eqNumInitial": 1,
   "hotkeys": {
    "equation": "Ctrl-E",
    "itemize": "Ctrl-I"
   },
   "labels_anchors": false,
   "latex_user_defs": false,
   "report_style_numbering": false,
   "user_envs_cfg": false
  },
  "toc": {
   "base_numbering": 1,
   "nav_menu": {},
   "number_sections": true,
   "sideBar": true,
   "skip_h1_title": true,
   "title_cell": "Table of Contents",
   "title_sidebar": "Contents",
   "toc_cell": false,
   "toc_position": {},
   "toc_section_display": true,
   "toc_window_display": true
  },
  "varInspector": {
   "cols": {
    "lenName": 16,
    "lenType": 16,
    "lenVar": 40
   },
   "kernels_config": {
    "python": {
     "delete_cmd_postfix": "",
     "delete_cmd_prefix": "del ",
     "library": "var_list.py",
     "varRefreshCmd": "print(var_dic_list())"
    },
    "r": {
     "delete_cmd_postfix": ") ",
     "delete_cmd_prefix": "rm(",
     "library": "var_list.r",
     "varRefreshCmd": "cat(var_dic_list()) "
    }
   },
   "types_to_exclude": [
    "module",
    "function",
    "builtin_function_or_method",
    "instance",
    "_Feature"
   ],
   "window_display": false
  }
 },
 "nbformat": 4,
 "nbformat_minor": 2
}
